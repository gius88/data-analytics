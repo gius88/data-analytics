{
 "cells": [
  {
   "cell_type": "code",
   "execution_count": null,
   "metadata": {},
   "outputs": [],
   "source": [
    "import pandas as pd\n",
    "import numpy as np\n",
    "data = pd.read_csv('./marketing_customer_analysis.csv')\n",
    "data.head()\n",
    "\n",
    "print(data.columns)     # columns headers\n",
    "data.columns=[e.lower().replace(' ', '_') for e in data.columns]  # lower and replace\n",
    "print(data.columns)\n",
    "\n",
    "data.isna().sum()\n",
    "round(data.isna().sum()/len(data),4)*100  # shows the percentage of null values in a column\n",
    "data=data.drop(columns=['vehicle_size'])  # drop a column  (or multiple columns)\n",
    "data=data.dropna()   # drop rows with nan values\n",
    "data.isna().sum()\n",
    "\n",
    "data['effective_to_date'] = pd.to_datetime(data['effective_to_date'], errors='coerce')\n",
    "data['effective_to_date'].dtype\n",
    "data.head()\n",
    "Processing Data\n",
    "Get the numeric data.\n",
    "numericals =data._get_numeric_data()\n",
    "# numericals =data.select_dtypes(np.number)\n",
    "numericals.head()\n",
    "Get Categorical data\n",
    "categoricals = data.select_dtypes(np.object)\n",
    "categoricals.head()\n",
    "Check normality visually.\n",
    "import matplotlib.pyplot as plt\n",
    "import seaborn as sns\n",
    "\n",
    "%matplotlib inline\n",
    "sns.pairplot(data)\n",
    "\n",
    "sns.distplot(data['customer_lifetime_value'], bins=20)\n",
    "plt.show()\n",
    "\n",
    "## Repeat this for all numerical variables"
   ]
  }
 ],
 "metadata": {
  "kernelspec": {
   "display_name": "Python 3",
   "language": "python",
   "name": "python3"
  },
  "language_info": {
   "codemirror_mode": {
    "name": "ipython",
    "version": 3
   },
   "file_extension": ".py",
   "mimetype": "text/x-python",
   "name": "python",
   "nbconvert_exporter": "python",
   "pygments_lexer": "ipython3",
   "version": "3.8.3"
  }
 },
 "nbformat": 4,
 "nbformat_minor": 4
}
