{
 "cells": [
  {
   "cell_type": "code",
   "execution_count": null,
   "metadata": {},
   "outputs": [],
   "source": [
    "X-Y split.\n",
    "X=data.drop('total_claim_amount', axis=1)\n",
    "y=data.total_claim_amount\n",
    "\n",
    "# we drop some useless columns\n",
    "X=X.drop(columns=['customer', 'effective_to_date'])\n",
    "Normalize (numerical).\n",
    "# first numerical and categorical split\n",
    "\n",
    "X_num=X._get_numeric_data()\n",
    "X_cat=X.drop(columns=X_num.columns)\n",
    "\n",
    "print (X.shape, X_num.shape, X_cat.shape)  # check shape\n",
    "# numerical\n",
    "X_num.describe()\n",
    "# normalize (standard)\n",
    "from sklearn.preprocessing import StandardScaler\n",
    "\n",
    "X_scaled=StandardScaler().fit_transform(X_num)\n",
    "\n",
    "def normalize(X):\n",
    "    X_mean=X.mean(axis=0)\n",
    "    X_std=X.std(axis=0)\n",
    "    X_std[X_std==0]=1.0\n",
    "    X=(X-X_mean)/X_std\n",
    "    return X\n",
    "\n",
    "X_num=normalize(X_num)\n",
    "X_num.head()\n",
    "(X_num-X_scaled).sum().sum()  # check difference"
   ]
  }
 ],
 "metadata": {
  "kernelspec": {
   "display_name": "Python 3",
   "language": "python",
   "name": "python3"
  },
  "language_info": {
   "codemirror_mode": {
    "name": "ipython",
    "version": 3
   },
   "file_extension": ".py",
   "mimetype": "text/x-python",
   "name": "python",
   "nbconvert_exporter": "python",
   "pygments_lexer": "ipython3",
   "version": "3.8.3"
  }
 },
 "nbformat": 4,
 "nbformat_minor": 4
}
