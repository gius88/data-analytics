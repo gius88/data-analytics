{
 "cells": [
  {
   "cell_type": "code",
   "execution_count": 48,
   "metadata": {},
   "outputs": [
    {
     "name": "stdout",
     "output_type": "stream",
     "text": [
      "Total number of stops: 9\n",
      "in 10 out 0\n",
      "in 4 out 1\n",
      "in 3 out 5\n",
      "in 3 out 4\n",
      "in 5 out 1\n",
      "in 1 out 5\n",
      "in 5 out 8\n",
      "in 4 out 6\n",
      "in 2 out 3\n"
     ]
    }
   ],
   "source": [
    "#variables\n",
    "#calculate the number of stops\n",
    "stops = [(10, 0), (4, 1), (3, 5), (3, 4), (5, 1), (1, 5), (5, 8), (4, 6), (2, 3)]\n",
    "print('Total number of stops:', len(stops))\n",
    "for in_stop,out_stop in stops:\n",
    "    print('in',in_stop,'out',out_stop)"
   ]
  },
  {
   "cell_type": "code",
   "execution_count": 72,
   "metadata": {},
   "outputs": [
    {
     "name": "stdout",
     "output_type": "stream",
     "text": [
      "[10, 3, -2, -1, 4, -4, -3, -2, -1]\n"
     ]
    }
   ],
   "source": [
    "#assign to a variable a list whose elements are the number\n",
    "#of passengers at each stop(in-out)\n",
    "bus_stop = []\n",
    "for in_stop,out_stop in stops:\n",
    "    tot = in_stop - out_stop\n",
    "    bus_stop.append(tot)\n",
    "print(bus_stop)"
   ]
  },
  {
   "cell_type": "code",
   "execution_count": null,
   "metadata": {},
   "outputs": [],
   "source": []
  },
  {
   "cell_type": "code",
   "execution_count": 91,
   "metadata": {},
   "outputs": [
    {
     "name": "stdout",
     "output_type": "stream",
     "text": [
      "Stop: 10\n",
      "Stop: 13\n",
      "Stop: 11\n",
      "Stop: 10\n",
      "Stop: 14\n",
      "Stop: 10\n",
      "Stop: 7\n",
      "Stop: 5\n",
      "Stop: 4\n"
     ]
    }
   ],
   "source": [
    "list_sum = 0\n",
    "for passenger in bus_stop:\n",
    "    list_sum = list_sum + passenger\n",
    "    print('Stop:',list_sum)"
   ]
  },
  {
   "cell_type": "code",
   "execution_count": 114,
   "metadata": {},
   "outputs": [
    {
     "name": "stdout",
     "output_type": "stream",
     "text": [
      "Number of passengers each stop: [10, 13, 11, 10, 14, 10, 7, 5, 4]\n",
      "Maximum occupation of the bus is: 14\n"
     ]
    }
   ],
   "source": [
    "list1 = [10, 3, -2, -1, 4, -4, -3, -2, -1]\n",
    "#output: list2 = [10,13,11,10,14,10,7,5,4]\n",
    "list2 = []\n",
    "list_sum = 0\n",
    "for n in list1:\n",
    "    list_sum = list_sum + n\n",
    "    list2.append(list_sum)\n",
    "print('Number of passengers each stop:',list2)\n",
    "print('Maximum occupation of the bus is:', max(list2))\n"
   ]
  },
  {
   "cell_type": "code",
   "execution_count": 79,
   "metadata": {},
   "outputs": [],
   "source": [
    "#standard deviation: how much does the data vary from the average?\n",
    "#how much the data are spread out from the mean\n",
    "#if stand. dev. is large: people are FAR from the mean\n",
    "#if stand. dev is small: people are CLOSE to the mean"
   ]
  },
  {
   "cell_type": "code",
   "execution_count": 112,
   "metadata": {},
   "outputs": [
    {
     "name": "stdout",
     "output_type": "stream",
     "text": [
      "The average is: 9.333333333333334\n"
     ]
    }
   ],
   "source": [
    "#average occupation:\n",
    "average = sum(list2)/len(list2)\n",
    "print('The average is:', average)"
   ]
  },
  {
   "cell_type": "code",
   "execution_count": 111,
   "metadata": {},
   "outputs": [
    {
     "name": "stdout",
     "output_type": "stream",
     "text": [
      "The standard deviation is: 3.391164991562634\n"
     ]
    }
   ],
   "source": [
    "#standard deviation\n",
    "distance = []\n",
    "for n in list2:\n",
    "    dist = n - average\n",
    "    distance.append(dist)\n",
    "\n",
    "    \n",
    "distance2 = []\n",
    "for n in list2:\n",
    "    dist = (n - average)**2\n",
    "    distance2.append(dist)\n",
    "\n",
    "\n",
    "sum_of_list2 = sum(list2)\n",
    "sum_distance = sum(distance)\n",
    "sum_distance2 = sum(distance2)\n",
    "variance = sum_distance2 / (len(list2)-1)\n",
    "standard_deviation = variance**0.5\n",
    "print('The standard deviation is:',standard_deviation)"
   ]
  },
  {
   "cell_type": "code",
   "execution_count": null,
   "metadata": {},
   "outputs": [],
   "source": []
  }
 ],
 "metadata": {
  "kernelspec": {
   "display_name": "Python 3",
   "language": "python",
   "name": "python3"
  },
  "language_info": {
   "codemirror_mode": {
    "name": "ipython",
    "version": 3
   },
   "file_extension": ".py",
   "mimetype": "text/x-python",
   "name": "python",
   "nbconvert_exporter": "python",
   "pygments_lexer": "ipython3",
   "version": "3.8.3"
  }
 },
 "nbformat": 4,
 "nbformat_minor": 4
}
