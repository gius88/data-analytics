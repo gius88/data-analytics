{
 "cells": [
  {
   "cell_type": "code",
   "execution_count": 3,
   "metadata": {},
   "outputs": [],
   "source": [
    "points = [(4, 5), (-0, 2), (4, 7), (1, -3), (3, -2), (4, 5), (3, 2), (5, 7), (-5, 7), (2, 2), (-4, 5), (0, -2),\n",
    "          (-4, 7), (-1, 3), (-3, 2), (-4, -5), (-3, 2), (5, 7), (5, 7), (2, 2), (9, 9), (-8, -9)]"
   ]
  },
  {
   "cell_type": "code",
   "execution_count": 4,
   "metadata": {},
   "outputs": [
    {
     "name": "stdout",
     "output_type": "stream",
     "text": [
      "Total Points: 22\n",
      "Unique Points: {(-5, 7), (3, -2), (-4, 7), (-4, 5), (9, 9), (5, 7), (4, 5), (0, 2), (1, -3), (-1, 3), (-4, -5), (2, 2), (-3, 2), (3, 2), (-8, -9), (0, -2), (4, 7)}\n",
      "Total Unique Points: 17\n",
      "Number of duplicates: 5\n",
      "Robin Hood hits the arrows 5 times and the coordinates are: {(-3, 2), (4, 5), (5, 7), (2, 2)}\n"
     ]
    }
   ],
   "source": [
    "#Robin Hood is famous for hitting an arrow with another arrow. Find the coordinates of the points where an arrow hits another arrow\n",
    "unique = set(points)\n",
    "duplicates = set([x for x in points if points.count(x) > 1])\n",
    "num_dup = len(points)-len(unique)\n",
    "print('Total Points:',len(points))\n",
    "print('Unique Points:', unique)\n",
    "print('Total Unique Points:',len(unique))\n",
    "print('Number of duplicates:', num_dup)\n",
    "print('Robin Hood hits the arrows',num_dup,'times and the coordinates are:',  duplicates)"
   ]
  },
  {
   "cell_type": "code",
   "execution_count": 5,
   "metadata": {},
   "outputs": [
    {
     "name": "stdout",
     "output_type": "stream",
     "text": [
      "Quadrant 1: [(9, 9), (5, 7), (4, 5), (2, 2), (3, 2), (4, 7)]\n",
      "Quadrant 2: [(-5, 7), (-4, 7), (-4, 5), (-1, 3), (-3, 2)]\n",
      "Quadrant 3: [(-4, -5), (-8, -9)]\n",
      "Quadrant 4: [(3, -2), (1, -3)]\n"
     ]
    }
   ],
   "source": [
    "#Calculate how many arrows have fallen in each quadrant\n",
    "#The space can be divided into 4 zones (quadrants): Q1, Q2, Q3, Q4. If a point is in Q1, both its x coordinate and y coordinate are positive. Any point with a null x or y coordinate is considered to not belong to any quadrant.\n",
    "#THIS QUADRANT IS POSITIVE\n",
    "quadrant1 = []\n",
    "#x negativa, y positiva\n",
    "quadrant2 = []\n",
    "#x negativa, y positiva\n",
    "quadrant3 = []\n",
    "#x positiva, y negativa\n",
    "quadrant4 = []\n",
    "\n",
    "for x,y in unique:\n",
    "    if x >= 1 and y >= 1:\n",
    "        quadrant1.append(x)\n",
    "        quadrant1.append(y)\n",
    "\n",
    "x = quadrant1[0::2]\n",
    "y = quadrant1[1::2]\n",
    "quadrant1 = list(zip(x,y))\n",
    "print('Quadrant 1:', quadrant1)\n",
    "\n",
    "for x,y in unique:\n",
    "    if x <= -1 and y >= 1:\n",
    "        quadrant2.append(x)\n",
    "        quadrant2.append(y)\n",
    "x = quadrant2[0::2]\n",
    "y = quadrant2[1::2]\n",
    "quadrant2 = list(zip(x,y))\n",
    "print('Quadrant 2:', quadrant2)\n",
    "\n",
    "for x,y in unique:\n",
    "    if x <= -1 and y <= 1:\n",
    "        quadrant3.append(x)\n",
    "        quadrant3.append(y)\n",
    "x = quadrant3[0::2]\n",
    "y = quadrant3[1::2]\n",
    "quadrant3 = list(zip(x,y))\n",
    "print('Quadrant 3:', quadrant3)\n",
    "\n",
    "for x,y in unique:\n",
    "    if x >= 1 and y <= -1:\n",
    "        quadrant4.append(x)\n",
    "        quadrant4.append(y)\n",
    "x = quadrant4[0::2]\n",
    "y = quadrant4[1::2]\n",
    "quadrant4 = list(zip(x,y))\n",
    "print('Quadrant 4:', quadrant4)\n",
    "    \n",
    "    \n",
    "        "
   ]
  },
  {
   "cell_type": "code",
   "execution_count": 6,
   "metadata": {},
   "outputs": [
    {
     "name": "stdout",
     "output_type": "stream",
     "text": [
      "The closest point to the center is: (0, 2)\n",
      "The closest point distance is: 2.0\n"
     ]
    }
   ],
   "source": [
    "#Find the point closest to the center. Calculate its distance to the center\n",
    "import math\n",
    "\n",
    "def distance_to_center(x,y):\n",
    "    distance_to_center = math.sqrt((x**2)+(y**2))\n",
    "    return distance_to_center\n",
    "\n",
    "closest_point = (float('inf'),float('inf'))\n",
    "closest_point_distance = 1000\n",
    "\n",
    "\n",
    "for x in points:\n",
    "    if distance_to_center(x[0],x[1]) < closest_point_distance:\n",
    "        closest_point_distance = distance_to_center(x[0],x[1])\n",
    "        closest_point = x\n",
    "\n",
    "print('The closest point to the center is: {}'.format(closest_point))\n",
    "print('The closest point distance is: {}'.format(closest_point_distance))"
   ]
  },
  {
   "cell_type": "code",
   "execution_count": 5,
   "metadata": {},
   "outputs": [
    {
     "name": "stdout",
     "output_type": "stream",
     "text": [
      "[(9, 9), (-8, -9)] 2\n"
     ]
    }
   ],
   "source": [
    "# If the archery target has a radius of 9, calculate the number of arrows that won't hit the target\n",
    "picked_up_arrows = []\n",
    "for x in points:\n",
    "    if distance_to_center(x[0],x[1]) >= 9:\n",
    "        picked_up_arrows.append(x)\n",
    "        \n",
    "number_of_picked_up_arrows = int(len(picked_up_arrows))\n",
    "\n",
    "print (picked_up_arrows, number_of_picked_up_arrows)"
   ]
  },
  {
   "cell_type": "code",
   "execution_count": null,
   "metadata": {},
   "outputs": [],
   "source": []
  },
  {
   "cell_type": "code",
   "execution_count": null,
   "metadata": {},
   "outputs": [],
   "source": []
  }
 ],
 "metadata": {
  "kernelspec": {
   "display_name": "Python 3",
   "language": "python",
   "name": "python3"
  },
  "language_info": {
   "codemirror_mode": {
    "name": "ipython",
    "version": 3
   },
   "file_extension": ".py",
   "mimetype": "text/x-python",
   "name": "python",
   "nbconvert_exporter": "python",
   "pygments_lexer": "ipython3",
   "version": "3.8.3"
  }
 },
 "nbformat": 4,
 "nbformat_minor": 4
}
